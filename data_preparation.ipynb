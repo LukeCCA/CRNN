{
 "cells": [
  {
   "cell_type": "code",
   "execution_count": 1,
   "metadata": {},
   "outputs": [],
   "source": [
    "from glob import glob\n",
    "from sklearn.model_selection import train_test_split\n",
    "import lmdb\n",
    "import numpy as np\n",
    "from scipy import signal\n",
    "from scipy.io import wavfile"
   ]
  },
  {
   "cell_type": "code",
   "execution_count": 2,
   "metadata": {},
   "outputs": [],
   "source": [
    "char_dict = {'2':0, '3':1, '4':2, '5':3, '6':4, '7':5, '8':6, '9':7, \n",
    "         'A':8, 'B':9, 'C':10, 'D':11, 'E':12, 'F':13, 'G':14, 'H':15, 'J':16, 'K':17, 'N':18, 'P':19, 'Q':20,\n",
    "         'R':21, 'S':22, 'T':23, 'U':24, 'V':25, 'X':26, 'Y':27, 'Z':28}"
   ]
  },
  {
   "cell_type": "code",
   "execution_count": 3,
   "metadata": {},
   "outputs": [],
   "source": [
    "training_set = lmdb.open('/Users/chienan/job/asr/competition/lmdb/train',map_size=1099511627776)"
   ]
  },
  {
   "cell_type": "code",
   "execution_count": 4,
   "metadata": {},
   "outputs": [],
   "source": [
    "testing_set = lmdb.open('/Users/chienan/job/asr/competition/lmdb/test',map_size=1073741824)"
   ]
  },
  {
   "cell_type": "code",
   "execution_count": 5,
   "metadata": {},
   "outputs": [],
   "source": [
    "dataset = glob('/Users/chienan/job/asr/competition/wav/*')"
   ]
  },
  {
   "cell_type": "code",
   "execution_count": 7,
   "metadata": {},
   "outputs": [],
   "source": [
    "train, val = train_test_split(dataset, train_size=0.9, random_state=5213)"
   ]
  },
  {
   "cell_type": "code",
   "execution_count": 8,
   "metadata": {},
   "outputs": [],
   "source": [
    "with training_set.begin(write=True) as db:\n",
    "    for ind, d in enumerate(train):\n",
    "        sr, wav = wavfile.read(d)\n",
    "        f, t, Sxx = signal.spectrogram(wav, sr)\n",
    "        Sxx = Sxx[:50,:] # 低頻的才是重點，高頻多為雜訊\n",
    "        db.put(key='input-%05d'.encode()%(ind+1),\n",
    "               value=Sxx.astype(np.float64).tobytes())\n",
    "        db.put(key='label-%05d'.encode()%(ind+1),\n",
    "               value=d.split('/')[-1][:-4].encode())\n",
    "    db.put(key='num-samples'.encode(),\n",
    "           value=str(ind+1).encode())"
   ]
  },
  {
   "cell_type": "code",
   "execution_count": 9,
   "metadata": {},
   "outputs": [],
   "source": [
    "with testing_set.begin(write=True) as db:\n",
    "    for ind, d in enumerate(val):\n",
    "        sr, wav = wavfile.read(d)\n",
    "        f, t, Sxx = signal.spectrogram(wav, sr)\n",
    "        Sxx = Sxx[:50,:] # 低頻的才是重點，高頻多為雜訊\n",
    "        db.put(key='input-%05d'.encode()%(ind+1),\n",
    "               value=Sxx.astype(np.float64).tobytes())\n",
    "        db.put(key='label-%05d'.encode()%(ind+1),\n",
    "               value=d.split('/')[-1][:-4].encode())\n",
    "    db.put(key='num-samples'.encode(),\n",
    "           value=str(ind+1).encode())"
   ]
  },
  {
   "cell_type": "code",
   "execution_count": null,
   "metadata": {},
   "outputs": [],
   "source": []
  }
 ],
 "metadata": {
  "kernelspec": {
   "display_name": "Python 3",
   "language": "python",
   "name": "python3"
  },
  "language_info": {
   "codemirror_mode": {
    "name": "ipython",
    "version": 3
   },
   "file_extension": ".py",
   "mimetype": "text/x-python",
   "name": "python",
   "nbconvert_exporter": "python",
   "pygments_lexer": "ipython3",
   "version": "3.8.5"
  }
 },
 "nbformat": 4,
 "nbformat_minor": 4
}
