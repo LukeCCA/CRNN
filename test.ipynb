{
 "cells": [
  {
   "cell_type": "code",
   "execution_count": 1,
   "metadata": {},
   "outputs": [],
   "source": [
    "import os\n",
    "import random\n",
    "\n",
    "import numpy as np\n",
    "import torch\n",
    "import torch.backends.cudnn as cudnn\n",
    "import torch.optim as optim\n",
    "import torch.utils.data\n",
    "from torch.autograd import Variable\n",
    "from torch.nn import CTCLoss\n",
    "\n",
    "import crnn.utils as utils\n",
    "import crnn.dataset as dataset\n",
    "import crnn.models.crnn as crnn"
   ]
  },
  {
   "cell_type": "code",
   "execution_count": 2,
   "metadata": {},
   "outputs": [],
   "source": [
    "manualSeed = 5213"
   ]
  },
  {
   "cell_type": "code",
   "execution_count": 3,
   "metadata": {},
   "outputs": [
    {
     "data": {
      "text/plain": [
       "<torch._C.Generator at 0x109cc4590>"
      ]
     },
     "execution_count": 3,
     "metadata": {},
     "output_type": "execute_result"
    }
   ],
   "source": [
    "random.seed(manualSeed)\n",
    "np.random.seed(manualSeed)\n",
    "torch.manual_seed(manualSeed)"
   ]
  },
  {
   "cell_type": "code",
   "execution_count": 4,
   "metadata": {},
   "outputs": [],
   "source": [
    "cudnn.benchmark = True"
   ]
  },
  {
   "cell_type": "code",
   "execution_count": 5,
   "metadata": {},
   "outputs": [],
   "source": [
    "trainroot = '/Users/chienan/job/asr/competition/lmdb/train/'\n",
    "valroot = '/Users/chienan/job/asr/competition/lmdb/test/'"
   ]
  },
  {
   "cell_type": "code",
   "execution_count": 6,
   "metadata": {},
   "outputs": [],
   "source": [
    "train_dataset = dataset.lmdbDataset(root=trainroot)"
   ]
  },
  {
   "cell_type": "code",
   "execution_count": 7,
   "metadata": {},
   "outputs": [],
   "source": [
    "train_loader = torch.utils.data.DataLoader(\n",
    "    train_dataset,\n",
    "    batch_size=2,\n",
    "    shuffle=True,\n",
    "    sampler=None,\n",
    "    collate_fn=dataset.alignCollate(H=50, W=200))"
   ]
  },
  {
   "cell_type": "code",
   "execution_count": 8,
   "metadata": {},
   "outputs": [],
   "source": [
    "test_dataset = dataset.lmdbDataset(root=valroot)"
   ]
  },
  {
   "cell_type": "code",
   "execution_count": 9,
   "metadata": {},
   "outputs": [],
   "source": [
    "alphabet = '23456789ABCDEFGHJKNPQRSTUVXYZ'\n",
    "char_dict = {'2':0, '3':1, '4':2, '5':3, '6':4, '7':5, '8':6, '9':7, \n",
    "         'A':8, 'B':9, 'C':10, 'D':11, 'E':12, 'F':13, 'G':14, 'H':15, 'J':16, 'K':17, 'N':18, 'P':19, 'Q':20,\n",
    "         'R':21, 'S':22, 'T':23, 'U':24, 'V':25, 'X':26, 'Y':27, 'Z':28}"
   ]
  },
  {
   "cell_type": "code",
   "execution_count": 10,
   "metadata": {},
   "outputs": [],
   "source": [
    "nclass = len(alphabet) + 1\n",
    "nc = 1\n",
    "batchSize = 2"
   ]
  },
  {
   "cell_type": "code",
   "execution_count": 11,
   "metadata": {},
   "outputs": [],
   "source": [
    "converter = utils.strLabelConverter(alphabet)\n",
    "criterion = CTCLoss(blank=nclass-1, reduction='mean')"
   ]
  },
  {
   "cell_type": "code",
   "execution_count": 12,
   "metadata": {},
   "outputs": [],
   "source": [
    "def weights_init(m):\n",
    "    classname = m.__class__.__name__\n",
    "    if classname.find('Conv') != -1:\n",
    "        m.weight.data.normal_(0.0, 0.02)\n",
    "    elif classname.find('BatchNorm') != -1:\n",
    "        m.weight.data.normal_(1.0, 0.02)\n",
    "        m.bias.data.fill_(0)"
   ]
  },
  {
   "cell_type": "code",
   "execution_count": 13,
   "metadata": {},
   "outputs": [],
   "source": [
    "crnn = crnn.CRNN(nc=nc, nclass=nclass, rnn_node=64, n_rnn=2, leakyRelu=False)"
   ]
  },
  {
   "cell_type": "code",
   "execution_count": 14,
   "metadata": {},
   "outputs": [
    {
     "data": {
      "text/plain": [
       "CRNN(\n",
       "  (cnn): Sequential(\n",
       "    (conv0): Conv2d(1, 32, kernel_size=(3, 7), stride=(1, 1))\n",
       "    (relu0): ReLU(inplace=True)\n",
       "    (conv1): Conv2d(32, 32, kernel_size=(3, 7), stride=(1, 1))\n",
       "    (relu1): ReLU(inplace=True)\n",
       "    (pooling1): MaxPool2d(kernel_size=2, stride=1, padding=0, dilation=1, ceil_mode=False)\n",
       "    (conv2): Conv2d(32, 32, kernel_size=(3, 7), stride=(1, 1))\n",
       "    (relu2): ReLU(inplace=True)\n",
       "    (conv3): Conv2d(32, 32, kernel_size=(3, 7), stride=(1, 1))\n",
       "    (relu3): ReLU(inplace=True)\n",
       "    (pooling2): MaxPool2d(kernel_size=2, stride=1, padding=0, dilation=1, ceil_mode=False)\n",
       "    (conv4): Conv2d(32, 32, kernel_size=(3, 7), stride=(1, 1))\n",
       "    (relu4): ReLU(inplace=True)\n",
       "    (conv5): Conv2d(32, 32, kernel_size=(3, 7), stride=(1, 1))\n",
       "    (relu5): ReLU(inplace=True)\n",
       "    (pooling3): MaxPool2d(kernel_size=2, stride=1, padding=0, dilation=1, ceil_mode=False)\n",
       "  )\n",
       "  (rnn): Sequential(\n",
       "    (0): BidirectionalLSTM(\n",
       "      (rnn): LSTM(32, 64, bidirectional=True)\n",
       "      (embedding): Linear(in_features=128, out_features=64, bias=True)\n",
       "    )\n",
       "    (1): BidirectionalLSTM(\n",
       "      (rnn): LSTM(64, 64, bidirectional=True)\n",
       "      (embedding): Linear(in_features=128, out_features=30, bias=True)\n",
       "    )\n",
       "  )\n",
       ")"
      ]
     },
     "execution_count": 14,
     "metadata": {},
     "output_type": "execute_result"
    }
   ],
   "source": [
    "crnn.apply(weights_init)"
   ]
  },
  {
   "cell_type": "code",
   "execution_count": 15,
   "metadata": {},
   "outputs": [],
   "source": [
    "image = torch.FloatTensor(batchSize, 1, 50, 200)\n",
    "text = torch.IntTensor(batchSize * 5)\n",
    "length = torch.IntTensor(batchSize)"
   ]
  },
  {
   "cell_type": "code",
   "execution_count": 16,
   "metadata": {},
   "outputs": [],
   "source": [
    "image = Variable(image)\n",
    "text = Variable(text)\n",
    "length = Variable(length)"
   ]
  },
  {
   "cell_type": "code",
   "execution_count": 17,
   "metadata": {},
   "outputs": [],
   "source": [
    "# loss averager\n",
    "loss_avg = utils.averager()"
   ]
  },
  {
   "cell_type": "code",
   "execution_count": 18,
   "metadata": {},
   "outputs": [],
   "source": [
    "optimizer = optim.Adam(crnn.parameters(), lr=0.01, betas=(0.5, 0.999))"
   ]
  },
  {
   "cell_type": "code",
   "execution_count": 19,
   "metadata": {},
   "outputs": [],
   "source": [
    "def trainBatch(net, criterion, optimizer):\n",
    "    data = train_iter.next()\n",
    "    cpu_images, cpu_texts = data\n",
    "    batch_size = cpu_images.size(0)\n",
    "    utils.loadData(image, cpu_images)\n",
    "    t, l = converter.encode(cpu_texts)\n",
    "    utils.loadData(text, t)\n",
    "    utils.loadData(length, l)\n",
    "\n",
    "    preds = crnn(image)\n",
    "    preds_size = Variable(torch.IntTensor([preds.size(0)] * batch_size))\n",
    "    cost = criterion(preds, text, preds_size, length) / batch_size\n",
    "    crnn.zero_grad()\n",
    "    cost.backward()\n",
    "    optimizer.step()\n",
    "    return cost"
   ]
  },
  {
   "cell_type": "code",
   "execution_count": 20,
   "metadata": {},
   "outputs": [],
   "source": [
    "train_iter = iter(train_loader)"
   ]
  },
  {
   "cell_type": "code",
   "execution_count": 21,
   "metadata": {},
   "outputs": [
    {
     "data": {
      "text/plain": [
       "True"
      ]
     },
     "execution_count": 21,
     "metadata": {},
     "output_type": "execute_result"
    }
   ],
   "source": [
    "crnn.training"
   ]
  },
  {
   "cell_type": "code",
   "execution_count": null,
   "metadata": {},
   "outputs": [
    {
     "name": "stdout",
     "output_type": "stream",
     "text": [
      "1\n",
      "[0/10][2/4651] Loss: -35.303837\n",
      "2\n",
      "3\n",
      "[0/10][4/4651] Loss: 355.850464\n",
      "4\n",
      "5\n",
      "[0/10][6/4651] Loss: -107.520813\n",
      "6\n",
      "7\n",
      "[0/10][8/4651] Loss: 89.589409\n",
      "8\n",
      "9\n",
      "[0/10][10/4651] Loss: 28.127769\n",
      "10\n",
      "11\n",
      "[0/10][12/4651] Loss: -18.494911\n",
      "12\n",
      "13\n",
      "[0/10][14/4651] Loss: -21.281744\n",
      "14\n",
      "15\n",
      "[0/10][16/4651] Loss: -4.464666\n",
      "16\n",
      "17\n",
      "[0/10][18/4651] Loss: -12.296000\n",
      "18\n",
      "19\n",
      "[0/10][20/4651] Loss: 28.673447\n",
      "20\n",
      "21\n",
      "[0/10][22/4651] Loss: 68.519493\n",
      "22\n",
      "23\n",
      "[0/10][24/4651] Loss: 41.993011\n",
      "24\n",
      "25\n",
      "[0/10][26/4651] Loss: 14.069054\n",
      "26\n",
      "27\n",
      "[0/10][28/4651] Loss: -45.508568\n",
      "28\n",
      "29\n",
      "[0/10][30/4651] Loss: 18.811386\n",
      "30\n",
      "31\n",
      "[0/10][32/4651] Loss: 18.662685\n",
      "32\n",
      "33\n",
      "[0/10][34/4651] Loss: 4.627020\n",
      "34\n",
      "35\n",
      "[0/10][36/4651] Loss: 4.330544\n",
      "36\n",
      "37\n",
      "[0/10][38/4651] Loss: -9.569729\n",
      "38\n",
      "39\n",
      "[0/10][40/4651] Loss: -1.719812\n",
      "40\n",
      "41\n",
      "[0/10][42/4651] Loss: -3.211915\n",
      "42\n",
      "43\n",
      "[0/10][44/4651] Loss: -1.390604\n",
      "44\n",
      "45\n",
      "[0/10][46/4651] Loss: -1.529884\n",
      "46\n",
      "47\n",
      "[0/10][48/4651] Loss: 1.454750\n",
      "48\n",
      "49\n",
      "[0/10][50/4651] Loss: -6.452713\n",
      "50\n",
      "51\n",
      "[0/10][52/4651] Loss: -11.824207\n",
      "52\n",
      "53\n",
      "[0/10][54/4651] Loss: 12.253052\n",
      "54\n",
      "55\n",
      "[0/10][56/4651] Loss: 144.661011\n",
      "56\n",
      "57\n",
      "[0/10][58/4651] Loss: 78.466782\n",
      "58\n",
      "59\n",
      "[0/10][60/4651] Loss: -77.861847\n",
      "60\n",
      "61\n",
      "[0/10][62/4651] Loss: 125.046051\n",
      "62\n",
      "63\n",
      "[0/10][64/4651] Loss: 13.324714\n",
      "64\n",
      "65\n",
      "[0/10][66/4651] Loss: 2.222222\n",
      "66\n",
      "67\n",
      "[0/10][68/4651] Loss: 1.307256\n",
      "68\n",
      "69\n",
      "[0/10][70/4651] Loss: -0.650064\n",
      "70\n",
      "71\n"
     ]
    }
   ],
   "source": [
    "for epoch in range(10):\n",
    "    train_iter = iter(train_loader)\n",
    "    i = 0\n",
    "    while i < len(train_loader):\n",
    "        cost = trainBatch(crnn, criterion, optimizer)\n",
    "        loss_avg.add(cost)\n",
    "        i += 1\n",
    "\n",
    "        if i % 2 == 0:\n",
    "            print('[%d/%d][%d/%d] Loss: %f' %\n",
    "                  (epoch, 10, i, len(train_loader), loss_avg.val()))\n",
    "            loss_avg.reset()\n",
    "        print(i)"
   ]
  },
  {
   "cell_type": "code",
   "execution_count": null,
   "metadata": {},
   "outputs": [],
   "source": []
  }
 ],
 "metadata": {
  "kernelspec": {
   "display_name": "Python 3",
   "language": "python",
   "name": "python3"
  },
  "language_info": {
   "codemirror_mode": {
    "name": "ipython",
    "version": 3
   },
   "file_extension": ".py",
   "mimetype": "text/x-python",
   "name": "python",
   "nbconvert_exporter": "python",
   "pygments_lexer": "ipython3",
   "version": "3.8.5"
  }
 },
 "nbformat": 4,
 "nbformat_minor": 4
}
